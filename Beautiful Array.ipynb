{
 "cells": [
  {
   "cell_type": "markdown",
   "metadata": {},
   "source": [
    "# Beautiful Array"
   ]
  },
  {
   "cell_type": "code",
   "execution_count": null,
   "metadata": {},
   "outputs": [],
   "source": [
    "T=int(input()) #input number of test case\n",
    "def sol(arr): # cal of result\n",
    "    temp=0\n",
    "    brr=[0,0,0]\n",
    "    for i in arr:\n",
    "        if(i!=0 and i!=-1 and i!=1): #if i is not 0 1 or last value \n",
    "            if(temp==0):\n",
    "                temp=i #then i assign to temp else return 0\n",
    "            else:\n",
    "                return 0\n",
    "    return 1\n",
    "    \n",
    "while(T>0): \n",
    "    #input\n",
    "    n=int(input())\n",
    "    a=list(map(int,input().split()))\n",
    "    val=0\n",
    "    \n",
    "    #calc res\n",
    "    val=sol(a)\n",
    "            \n",
    "    #printing result\n",
    "    if(val==1):\n",
    "        print(\"yes\")\n",
    "    else:\n",
    "        print(\"no\")\n",
    "    \n",
    "    #updating T\n",
    "    T-=1"
   ]
  },
  {
   "cell_type": "markdown",
   "metadata": {},
   "source": [
    "## step1 : take step size in t \n",
    "\n",
    "## step2 : take all input in n and take value in a as list it con map\n",
    "\n",
    "## step3 : call fuction sol \n",
    "\n",
    "## step4 : in sol fuction checking value of i is not 0 1 or last value\n",
    "\n",
    "## step5 :check if satisfy then assign i value in to temp or else return 0 this return value store in val variable \n",
    "\n",
    "## step6 : check if val have contain value then print yes otherwise no "
   ]
  },
  {
   "cell_type": "code",
   "execution_count": null,
   "metadata": {},
   "outputs": [],
   "source": []
  }
 ],
 "metadata": {
  "kernelspec": {
   "display_name": "Python 3",
   "language": "python",
   "name": "python3"
  },
  "language_info": {
   "codemirror_mode": {
    "name": "ipython",
    "version": 3
   },
   "file_extension": ".py",
   "mimetype": "text/x-python",
   "name": "python",
   "nbconvert_exporter": "python",
   "pygments_lexer": "ipython3",
   "version": "3.7.9"
  }
 },
 "nbformat": 4,
 "nbformat_minor": 4
}
